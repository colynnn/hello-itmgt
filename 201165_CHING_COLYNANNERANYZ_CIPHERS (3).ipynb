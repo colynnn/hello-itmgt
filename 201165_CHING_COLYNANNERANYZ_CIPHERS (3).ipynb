{
 "cells": [
  {
   "cell_type": "code",
   "execution_count": 5,
   "id": "e98520f9",
   "metadata": {},
   "outputs": [
    {
     "data": {
      "text/plain": [
       "'DWWDFN DW GDZQ'"
      ]
     },
     "execution_count": 5,
     "metadata": {},
     "output_type": "execute_result"
    }
   ],
   "source": [
    "def problem_1(message, shift):\n",
    "    \n",
    "    plain_text = \"\"\n",
    "    \n",
    "    for characters in message: \n",
    "        \n",
    "        if characters.isupper():\n",
    "            \n",
    "            unicode = ord(characters)\n",
    "           \n",
    "            loop = ord(characters) - ord(\"A\")\n",
    "            \n",
    "            a_loop = (loop + shift) % 26\n",
    "            \n",
    "            new_code = a_loop + ord (\"A\")\n",
    "            \n",
    "            new_characters = chr(new_code)\n",
    "            \n",
    "            plain_text = plain_text + new_characters\n",
    "        \n",
    "        else:\n",
    "            \n",
    "            plain_text += characters\n",
    "\n",
    "    return (plain_text)\n",
    "\n",
    "problem_1 (\"ATTACK AT DAWN\", 3)"
   ]
  },
  {
   "cell_type": "code",
   "execution_count": 49,
   "id": "5b6dcaa7",
   "metadata": {},
   "outputs": [
    {
     "data": {
      "text/plain": [
       "'IRIANMOGFANEOT__'"
      ]
     },
     "execution_count": 49,
     "metadata": {},
     "output_type": "execute_result"
    }
   ],
   "source": [
    "def problem_2(message,shift):\n",
    "    \n",
    "    plain_text = \"\"\n",
    "    \n",
    "    while len(message) % shift !=0:\n",
    "        message += \"_\"\n",
    "        continue\n",
    "    \n",
    "    for i in range(len(message)):\n",
    "        shifted_text = (i // shift) + (len(message) // shift) * (i % shift)\n",
    "        plain_text += message[shifted_text]\n",
    "\n",
    "    return (plain_text)\n",
    "\n",
    "problem_2(\"INFORMATION_AGE\", 4)\n",
    "  \n",
    "      "
   ]
  },
  {
   "cell_type": "code",
   "execution_count": 8,
   "id": "241253c2",
   "metadata": {},
   "outputs": [
    {
     "data": {
      "text/plain": [
       "'MXE VD FVR FQGG FAM MEZR'"
      ]
     },
     "execution_count": 8,
     "metadata": {},
     "output_type": "execute_result"
    }
   ],
   "source": [
    "def problem_3 (message, key): \n",
    "    repeated_key = key * (len(message)//len(key)) + key [:(len(message)) % (len(key))]\n",
    "    \n",
    "    text = \"\"\n",
    "    \n",
    "    for i in range (len(message)): \n",
    "        \n",
    "        if message [i] == \" \": \n",
    "            letter = \" \"\n",
    "            \n",
    "        elif ord(message[i])- 65 + ord(repeated_key[i]) - 65 <= 25: \n",
    "            letter = chr (ord(message[i]) + ord(repeated_key[i]) - 65)\n",
    "            \n",
    "        elif ord(message[i])- 65 + ord(repeated_key[i])- 65 > 25:\n",
    "            letter = chr(ord(message[i]) + ord(repeated_key[i])-65-26)\n",
    "        \n",
    "        text += letter \n",
    "            \n",
    "    return text \n",
    "\n",
    "problem_3 (\"MY MESSAGE\", \"KEY\")"
   ]
  },
  {
   "cell_type": "code",
   "execution_count": 21,
   "id": "18bde8dd",
   "metadata": {},
   "outputs": [
    {
     "data": {
      "text/plain": [
       "'INFORMATION_AGE_'"
      ]
     },
     "execution_count": 21,
     "metadata": {},
     "output_type": "execute_result"
    }
   ],
   "source": [
    "def problem_4(message, shift): \n",
    "    \n",
    "    plain_text= \"\"\n",
    "    \n",
    "    for i in range (len(message)):  \n",
    "        number_of_letters = len(message) / shift \n",
    "        plain_text = plain_text + message[int((i// number_of_letters))+int((shift*(i % number_of_letters)))]\n",
    "        i += 1 \n",
    "    return (plain_text)\n",
    "\n",
    "problem_4(\"IRIANMOGFANEOT__\",4)"
   ]
  }
 ],
 "metadata": {
  "kernelspec": {
   "display_name": "Python 3",
   "language": "python",
   "name": "python3"
  },
  "language_info": {
   "codemirror_mode": {
    "name": "ipython",
    "version": 3
   },
   "file_extension": ".py",
   "mimetype": "text/x-python",
   "name": "python",
   "nbconvert_exporter": "python",
   "pygments_lexer": "ipython3",
   "version": "3.8.8"
  }
 },
 "nbformat": 4,
 "nbformat_minor": 5
}
