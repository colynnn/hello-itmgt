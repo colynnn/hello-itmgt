{
 "cells": [
  {
   "cell_type": "code",
   "execution_count": 42,
   "id": "1db9df0d",
   "metadata": {},
   "outputs": [
    {
     "name": "stdout",
     "output_type": "stream",
     "text": [
      "Input an integer: 9\n"
     ]
    },
    {
     "data": {
      "text/plain": [
       "362880"
      ]
     },
     "execution_count": 42,
     "metadata": {},
     "output_type": "execute_result"
    }
   ],
   "source": [
    "def problem_1(): \n",
    "    \n",
    "    number = int(input(\"Input an integer: \"))\n",
    "    factorial = 1 \n",
    "\n",
    "    if number < 0: \n",
    "        print (\"Try inputting a positive integer.\")\n",
    "\n",
    "    elif number == 0: \n",
    "        print(\"1\")\n",
    "\n",
    "    else: \n",
    "        for i in range(1, number + 1):  \n",
    "            factorial = factorial * i\n",
    "        return(factorial)\n",
    "\n",
    "problem_1()\n"
   ]
  },
  {
   "cell_type": "code",
   "execution_count": 39,
   "id": "88b21f7b",
   "metadata": {},
   "outputs": [
    {
     "name": "stdout",
     "output_type": "stream",
     "text": [
      "user input: colyn\n",
      "user input: colyn\n",
      "user input: annika\n"
     ]
    },
    {
     "data": {
      "text/plain": [
       "'1'"
      ]
     },
     "execution_count": 39,
     "metadata": {},
     "output_type": "execute_result"
    }
   ],
   "source": [
    "def problem_2(): \n",
    "    \n",
    "    problem_2 = \"annika\"\n",
    "       \n",
    "    number_of_guesses = 0 \n",
    "    \n",
    "    should_exit = \"false\"\n",
    "\n",
    "    while (number_of_guesses <= 3) and (should_exit == \"false\"):\n",
    "\n",
    "        user_input = input(\"user input: \")\n",
    "        number_of_guesses += 1\n",
    "\n",
    "        if problem_2 == user_input: \n",
    "            return(\"1\") \n",
    "            should_exit = \"true\"\n",
    "\n",
    "        elif number_of_guesses == 3: \n",
    "            return (\"0\")\n",
    "            should_exit = \"true\"\n",
    "            \n",
    "problem_2()"
   ]
  },
  {
   "cell_type": "code",
   "execution_count": 9,
   "id": "c8740801",
   "metadata": {},
   "outputs": [
    {
     "name": "stdout",
     "output_type": "stream",
     "text": [
      "Temperature to be converted with its scare of temperature:  90F\n",
      "Abbreviation of the scale of temperature of the output: K\n",
      "305.3722222222222\n"
     ]
    }
   ],
   "source": [
    "def problem_3(): \n",
    "    \n",
    "    input_scale = input (\"Temperature to be converted with its scare of temperature:  \")\n",
    "    output_scale = input (\"Abbreviation of the scale of temperature of the output: \") \n",
    "    i_degree = int(input_scale[:-1])\n",
    "    i_convert = input_scale [-1]\n",
    "\n",
    "    if i_convert.upper() == \"C\" and output_scale.upper() == \"F\":  \n",
    "        result = float((9* i_degree)/ 5 + 32 )\n",
    "        print (result)\n",
    "\n",
    "    elif i_convert.upper() == \"F\" and output_scale.upper () == \"C\": \n",
    "        result = float((i_degree - 32) * 5 / 9)\n",
    "        print (result)\n",
    "\n",
    "    elif i_convert.upper() == \"C\" and output_scale.upper() == \"K\":\n",
    "        result = float (i_degree + 273.15)\n",
    "        print (result)\n",
    "\n",
    "    elif i_convert.upper() == \"K\" and output_scale.upper() == \"C\": \n",
    "        result = float (i_degree - 273.15)\n",
    "        print (result)\n",
    "\n",
    "    elif i_convert.upper() == \"F\" and output_scale.upper () == \"K\": \n",
    "        result = float((i_degree - 32 ) * 5 / 9 + 273.15) \n",
    "        print (result)\n",
    "\n",
    "    elif i_convert.upper() == \"K\" and output_scale.upper () == \"F\": \n",
    "        result = float((i_degree - 273.15)* 9 / 5 + 32 )\n",
    "        print (result)\n",
    "\n",
    "problem_3()\n",
    "  "
   ]
  },
  {
   "cell_type": "code",
   "execution_count": 49,
   "id": "5628aee7",
   "metadata": {},
   "outputs": [
    {
     "name": "stdout",
     "output_type": "stream",
     "text": [
      "Change in centavos: 90\n"
     ]
    },
    {
     "data": {
      "text/plain": [
       "('1P: ', 0, '25C: ', 3, '10C: ', 1, '5C: ', 1, '1C: ', 0)"
      ]
     },
     "execution_count": 49,
     "metadata": {},
     "output_type": "execute_result"
    }
   ],
   "source": [
    "def problem_4(): \n",
    "    \n",
    "    problem_4 = int(input(\"Change in centavos: \"))\n",
    "\n",
    "    one_peso = problem_4 // 100\n",
    "    problem_4 = problem_4 % 100 \n",
    "\n",
    "    twentyfive_cents = problem_4 // 25\n",
    "    problem_4 = problem_4 % 25\n",
    "\n",
    "    ten_cents = problem_4 // 10 \n",
    "    problem_4 = problem_4 % 10 \n",
    "\n",
    "    five_cents = problem_4 // 5 \n",
    "    problem_4 = problem_4 % 5\n",
    "\n",
    "    one_cent = problem_4 // 1 \n",
    "    problem_4 = problem_4 % 1 \n",
    "\n",
    "    return (\"1P: \", one_peso) + (\"25C: \", twentyfive_cents) + (\"10C: \", ten_cents) + (\"5C: \", five_cents) + (\"1C: \", one_cent)  \n",
    "\n",
    "problem_4()\n"
   ]
  },
  {
   "cell_type": "code",
   "execution_count": 50,
   "id": "d5800d8e",
   "metadata": {},
   "outputs": [
    {
     "name": "stdout",
     "output_type": "stream",
     "text": [
      "problem_5: Hi\n"
     ]
    },
    {
     "data": {
      "text/plain": [
       "'hI'"
      ]
     },
     "execution_count": 50,
     "metadata": {},
     "output_type": "execute_result"
    }
   ],
   "source": [
    "def problem_5(): \n",
    "    mixed_case = input(\"problem_5: \")\n",
    "    return (mixed_case.swapcase())\n",
    "\n",
    "problem_5()"
   ]
  }
 ],
 "metadata": {
  "kernelspec": {
   "display_name": "Python 3",
   "language": "python",
   "name": "python3"
  },
  "language_info": {
   "codemirror_mode": {
    "name": "ipython",
    "version": 3
   },
   "file_extension": ".py",
   "mimetype": "text/x-python",
   "name": "python",
   "nbconvert_exporter": "python",
   "pygments_lexer": "ipython3",
   "version": "3.8.8"
  }
 },
 "nbformat": 4,
 "nbformat_minor": 5
}
