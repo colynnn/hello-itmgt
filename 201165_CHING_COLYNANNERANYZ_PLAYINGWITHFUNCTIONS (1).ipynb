{
 "cells": [
  {
   "cell_type": "code",
   "execution_count": 12,
   "id": "1db9df0d",
   "metadata": {},
   "outputs": [
    {
     "data": {
      "text/plain": [
       "120"
      ]
     },
     "execution_count": 12,
     "metadata": {},
     "output_type": "execute_result"
    }
   ],
   "source": [
    "def problem_1(number): \n",
    "    \n",
    "    print = (number)\n",
    "    factorial = 1 \n",
    "\n",
    "    if number < 0: \n",
    "        print (\"Try inputting a positive integer.\")\n",
    "\n",
    "    elif number == 0: \n",
    "        print(\"1\")\n",
    "\n",
    "    else: \n",
    "        for i in range(1, number + 1):  \n",
    "            factorial = factorial * i\n",
    "        return(factorial)\n",
    "\n",
    "problem_1(5)\n"
   ]
  },
  {
   "cell_type": "code",
   "execution_count": 19,
   "id": "88b21f7b",
   "metadata": {},
   "outputs": [
    {
     "name": "stdout",
     "output_type": "stream",
     "text": [
      "Please enter the passphrase: hello\n",
      "Please enter the passphrase: annika\n"
     ]
    },
    {
     "data": {
      "text/plain": [
       "'1'"
      ]
     },
     "execution_count": 19,
     "metadata": {},
     "output_type": "execute_result"
    }
   ],
   "source": [
    "def problem_2(name): \n",
    "    \n",
    "    print = (name)\n",
    "       \n",
    "    number_of_guesses = 0 \n",
    "    \n",
    "    should_exit = \"false\"\n",
    "\n",
    "    while (number_of_guesses <= 3) and (should_exit == \"false\"):\n",
    "\n",
    "        user_input = input(\"Please enter the passphrase: \")\n",
    "        number_of_guesses += 1\n",
    "\n",
    "        if name == user_input: \n",
    "            return(\"1\") \n",
    "            should_exit = \"true\"\n",
    "\n",
    "        elif number_of_guesses == 3: \n",
    "            return (\"0\")\n",
    "            should_exit = \"true\"\n",
    "            \n",
    "problem_2(\"annika\")"
   ]
  },
  {
   "cell_type": "code",
   "execution_count": 2,
   "id": "c8740801",
   "metadata": {},
   "outputs": [
    {
     "data": {
      "text/plain": [
       "305.3722222222222"
      ]
     },
     "execution_count": 2,
     "metadata": {},
     "output_type": "execute_result"
    }
   ],
   "source": [
    "def problem_3(temp, original_format, new_format): \n",
    "    \n",
    "    print = (temp, original_format, new_format)\n",
    "    \n",
    "\n",
    "    if original_format == \"Celsius\" and new_format == \"Fahrenheit\":  \n",
    "        result = float((9* temp)/ 5 + 32 )\n",
    "        return (result)\n",
    "\n",
    "    elif original_format == \"Fahrenheit\" and new_format == \"Celsius\": \n",
    "        result = float((temp - 32) * 5 / 9)\n",
    "        return (result)\n",
    "\n",
    "    elif original_format == \"Celsius\" and new_format == \"Kelvin\":\n",
    "        result = float (temp + 273.15)\n",
    "        return (result)\n",
    "\n",
    "    elif original_format == \"Kelvin\" and new_format == \"Celsius\": \n",
    "        result = float (temp - 273.15)\n",
    "        return (result)\n",
    "\n",
    "    elif original_format == \"Fahrenheit\" and new_format == \"Kelvin\": \n",
    "        result = float((temp - 32 ) * 5 / 9 + 273.15) \n",
    "        return (result)\n",
    "\n",
    "    elif original_format == \"Kelvin\" and new_format == \"Fahrenheit\": \n",
    "        result = float((temp - 273.15)* 9 / 5 + 32 )\n",
    "        return (result)\n",
    "\n",
    "problem_3(90, \"Fahrenheit\", \"Kelvin\") \n",
    "  "
   ]
  },
  {
   "cell_type": "code",
   "execution_count": 18,
   "id": "0a7ddf96",
   "metadata": {},
   "outputs": [
    {
     "data": {
      "text/plain": [
       "'1P:4/25C:2/10C:0/5C:1/1C:3'"
      ]
     },
     "execution_count": 18,
     "metadata": {},
     "output_type": "execute_result"
    }
   ],
   "source": [
    "def problem_4(change): \n",
    "    \n",
    "    print = (change)\n",
    "\n",
    "    one_peso = change // 100\n",
    "    change = change % 100 \n",
    "\n",
    "    twentyfive_cents = change // 25\n",
    "    change = change % 25\n",
    "\n",
    "    ten_cents = change // 10 \n",
    "    change = change % 10 \n",
    "\n",
    "    five_cents = change // 5 \n",
    "    change = change % 5\n",
    "\n",
    "    one_cent = change // 1 \n",
    "    change = change % 1 \n",
    "\n",
    "    return (f\"1P:{one_peso}/25C:{twentyfive_cents}/10C:{ten_cents}/5C:{five_cents}/1C:{one_cent}\")\n",
    "\n",
    "problem_4(458)\n"
   ]
  },
  {
   "cell_type": "code",
   "execution_count": 16,
   "id": "d5800d8e",
   "metadata": {},
   "outputs": [
    {
     "data": {
      "text/plain": [
       "'GooD MOrNINg'"
      ]
     },
     "execution_count": 16,
     "metadata": {},
     "output_type": "execute_result"
    }
   ],
   "source": [
    "def problem_5(mixed_case): \n",
    "    print = (mixed_case)\n",
    "    return (mixed_case.swapcase())\n",
    "\n",
    "problem_5(\"gOOd moRninG\")"
   ]
  }
 ],
 "metadata": {
  "kernelspec": {
   "display_name": "Python 3",
   "language": "python",
   "name": "python3"
  },
  "language_info": {
   "codemirror_mode": {
    "name": "ipython",
    "version": 3
   },
   "file_extension": ".py",
   "mimetype": "text/x-python",
   "name": "python",
   "nbconvert_exporter": "python",
   "pygments_lexer": "ipython3",
   "version": "3.8.8"
  }
 },
 "nbformat": 4,
 "nbformat_minor": 5
}
