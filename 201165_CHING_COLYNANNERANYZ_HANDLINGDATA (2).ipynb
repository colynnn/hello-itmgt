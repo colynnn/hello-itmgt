{
 "cells": [
  {
   "cell_type": "code",
   "execution_count": 5,
   "id": "6679798c",
   "metadata": {},
   "outputs": [],
   "source": [
    "# NON-INTERACTIVE CODE CELL. YOU MAY RUN THIS CELL, BUT DO NOT EDIT IT.\n",
    "# FOR DEMONSTRATION PURPOSES ONLY. DO NOT EDIT.\n",
    "\n",
    "social_graph = {\n",
    "    \"@bongolpoc\":{\"first_name\":\"Joselito\",\n",
    "                  \"last_name\":\"Olpoc\",\n",
    "                  \"following\":[\n",
    "                  ]\n",
    "    },\n",
    "    \"@joaquin\":  {\"first_name\":\"Joaquin\",\n",
    "                  \"last_name\":\"Gonzales\",\n",
    "                  \"following\":[\n",
    "                      \"@chums\",\"@jobenilagan\"\n",
    "                  ]\n",
    "    },\n",
    "    \"@chums\" : {\"first_name\":\"Matthew\",\n",
    "                \"last_name\":\"Uy\",\n",
    "                \"following\":[\n",
    "                    \"@bongolpoc\",\"@miketan\",\"@rudyang\",\"@joeilagan\"\n",
    "                ]\n",
    "    },\n",
    "    \"@jobenilagan\":{\"first_name\":\"Joben\",\n",
    "                   \"last_name\":\"Ilagan\",\n",
    "                   \"following\":[\n",
    "                    \"@eeebeee\",\"@joeilagan\",\"@chums\",\"@joaquin\"\n",
    "                   ]\n",
    "    },\n",
    "    \"@joeilagan\":{\"first_name\":\"Joe\",\n",
    "                  \"last_name\":\"Ilagan\",\n",
    "                  \"following\":[\n",
    "                    \"@eeebeee\",\"@jobenilagan\",\"@chums\"\n",
    "                  ]\n",
    "    },\n",
    "    \"@eeebeee\":  {\"first_name\":\"Elizabeth\",\n",
    "                  \"last_name\":\"Ilagan\",\n",
    "                  \"following\":[\n",
    "                    \"@jobenilagan\",\"@joeilagan\"\n",
    "                  ]\n",
    "    },\n",
    "}"
   ]
  },
  {
   "cell_type": "code",
   "execution_count": 20,
   "id": "7941136f",
   "metadata": {},
   "outputs": [
    {
     "data": {
      "text/plain": [
       "'followed by'"
      ]
     },
     "execution_count": 20,
     "metadata": {},
     "output_type": "execute_result"
    }
   ],
   "source": [
    "# CODE CELL\n",
    "# PROBLEM 1\n",
    "\n",
    "def relationship_status(from_member, to_member, social_graph):\n",
    "    \n",
    "    #both follow each other \n",
    "    if to_member in social_graph[from_member][\"following\"] and from_member in social_graph[to_member][\"following\"]:\n",
    "        return \"friends\"\n",
    "    \n",
    "    #from member is not following to member and to member is following from member  (followed by)\n",
    "    elif from_member in social_graph[to_member][\"following\"]: \n",
    "        return \"followed by\"\n",
    "    \n",
    "    #from member is following to member and to member is not following from member (follower)\n",
    "    elif to_member in social_graph[from_member][\"following\"]:\n",
    "        return \"follower\"\n",
    "    \n",
    "    #none\n",
    "    else:\n",
    "        return None\n",
    "    \n",
    "relationship_status(\"@chums\", \"@joaquin\", social_graph)"
   ]
  },
  {
   "cell_type": "code",
   "execution_count": 21,
   "id": "16c014f9",
   "metadata": {},
   "outputs": [],
   "source": [
    "# NON-INTERACTIVE CODE CELL. YOU MAY RUN THIS CELL, BUT DO NOT EDIT IT.\n",
    "# FOR DEMONSTRATION PURPOSES ONLY. DO NOT EDIT.\n",
    "\n",
    "board1 = [\n",
    "['X','X','O'],\n",
    "['O','X','O'],\n",
    "['O','','X'],\n",
    "]\n",
    "\n",
    "board2 = [\n",
    "['X','X','O'],\n",
    "['O','X','O'],\n",
    "['','O','X'],\n",
    "]\n",
    "\n",
    "board3 = [\n",
    "['O','X','O'],\n",
    "['','O','X'],\n",
    "['X','X','O'],\n",
    "]\n",
    "\n",
    "board4 = [\n",
    "['X','X','X'],\n",
    "['O','X','O'],\n",
    "['O','','O'],\n",
    "]\n",
    "\n",
    "board5 = [\n",
    "['X','X','O'],\n",
    "['O','X','O'],\n",
    "['X','','O'],\n",
    "]\n",
    "\n",
    "board6 = [\n",
    "['X','X','O'],\n",
    "['O','X','O'],\n",
    "['X','',''],\n",
    "]"
   ]
  },
  {
   "cell_type": "code",
   "execution_count": 30,
   "id": "b3f17d14",
   "metadata": {},
   "outputs": [
    {
     "data": {
      "text/plain": [
       "'X'"
      ]
     },
     "execution_count": 30,
     "metadata": {},
     "output_type": "execute_result"
    }
   ],
   "source": [
    "#CODE CELL \n",
    "#PROBLEM 2\n",
    "def tic_tac_toe(board): \n",
    "\n",
    "    try: \n",
    "        horizontal = [y for y in board]\n",
    "        vertical = [y for y in zip(*board)]\n",
    "        updown_diagonal = [board[i][i] for i, v in enumerate(board)]\n",
    "        downup_diagonal = [board[(len(board)-1)-i][i] for i, v in enumerate(board)]\n",
    "\n",
    "\n",
    "        if any(a == [\"X\"]*len(board) for a in horizontal) or any(a == tuple([\"X\"]*len(board)) for a in vertical) or all(a == \"X\" for a in updown_diagonal) or all(a == \"X\" for a in downup_diagonal):\n",
    "            return \"X\"\n",
    "        elif any(a == [\"O\"]*len(board) for a in horizontal) or any(a == tuple([\"O\"]*len(board)) for a in vertical) or all(a == \"O\" for a in updown_diagonal) or all(a == \"O\" for a in downup_diagonal):\n",
    "            return \"O\"\n",
    "        else: \n",
    "            return None \n",
    "        \n",
    "    except: \n",
    "        return None \n",
    "\n",
    "\n",
    "tic_tac_toe(board2)\n",
    "\n",
    "  \n"
   ]
  },
  {
   "cell_type": "code",
   "execution_count": 5,
   "id": "17709692",
   "metadata": {},
   "outputs": [],
   "source": [
    "# NON-INTERACTIVE CODE CELL. YOU MAY RUN THIS CELL, BUT DO NOT EDIT IT.\n",
    "# FOR DEMONSTRATION PURPOSES ONLY. DO NOT EDIT.\n",
    "\n",
    "legs = {\n",
    "     (\"upd\",\"admu\"):{\n",
    "         \"travel_time_mins\":10\n",
    "     },\n",
    "     (\"admu\",\"dlsu\"):{\n",
    "         \"travel_time_mins\":35\n",
    "     },\n",
    "     (\"dlsu\",\"upd\"):{\n",
    "         \"travel_time_mins\":55\n",
    "     }\n",
    "}"
   ]
  },
  {
   "cell_type": "code",
   "execution_count": 11,
   "id": "7bcf14e5",
   "metadata": {},
   "outputs": [
    {
     "data": {
      "text/plain": [
       "100"
      ]
     },
     "execution_count": 11,
     "metadata": {},
     "output_type": "execute_result"
    }
   ],
   "source": [
    "#CODE CELL \n",
    "#PROBLEM 3\n",
    "\n",
    "def eta(legs,source,destination):\n",
    "    \n",
    "    eta = 0\n",
    "    d = \"\"\n",
    "    keys = list(legs.keys())\n",
    "    \n",
    "    #one way van \n",
    "    #places \n",
    "    \n",
    "    sources_list = [a[0] for a in keys]\n",
    "    destinations_list = [a[1] for a in keys]\n",
    "    \n",
    "    while d != destination:\n",
    "      \n",
    "    #if souce are in the keys\n",
    "        if (source,destination) in keys:\n",
    "            d = destination \n",
    "            \n",
    "     #check if it is not in keys  \n",
    "    \n",
    "        elif (source,destination) not in keys:\n",
    "             for i in range(len(legs)):\n",
    "                if sources_list[i] == source:\n",
    "                    d = destinations_list[i]\n",
    "                    break\n",
    "                    \n",
    "        minutes = legs[(source,d)][\"travel_time_mins\"]\n",
    "        eta += minutes\n",
    "        source = d\n",
    "    return eta\n",
    "eta (legs, \"upd\", \"upd\")"
   ]
  }
 ],
 "metadata": {
  "kernelspec": {
   "display_name": "Python 3",
   "language": "python",
   "name": "python3"
  },
  "language_info": {
   "codemirror_mode": {
    "name": "ipython",
    "version": 3
   },
   "file_extension": ".py",
   "mimetype": "text/x-python",
   "name": "python",
   "nbconvert_exporter": "python",
   "pygments_lexer": "ipython3",
   "version": "3.8.8"
  }
 },
 "nbformat": 4,
 "nbformat_minor": 5
}
